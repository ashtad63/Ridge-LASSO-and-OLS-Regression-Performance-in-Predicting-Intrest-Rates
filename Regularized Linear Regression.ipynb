{
 "cells": [
  {
   "cell_type": "markdown",
   "metadata": {},
   "source": [
    "## Lending Dataset – Regularized Linear Regression"
   ]
  },
  {
   "cell_type": "code",
   "execution_count": 2,
   "metadata": {},
   "outputs": [],
   "source": [
    "%matplotlib inline\n",
    "import numpy as np\n",
    "import pandas as pd\n",
    "from pandas import Series, DataFrame\n",
    "from sklearn.linear_model import LinearRegression\n",
    "from sklearn.linear_model import Ridge, RidgeCV\n",
    "from sklearn.linear_model import Lasso, LassoCV\n",
    "from sklearn import metrics \n",
    "from sklearn.model_selection import cross_val_score\n",
    "from sklearn.model_selection import train_test_split\n",
    "from sklearn.preprocessing import StandardScaler\n",
    "from sklearn.decomposition import PCA\n",
    "import statsmodels.api as sm\n",
    "import matplotlib.pyplot as plt\n",
    "import seaborn as sns; sns.set()"
   ]
  },
  {
   "cell_type": "markdown",
   "metadata": {},
   "source": [
    "### Step A: Read in Dataset and Display DataFrame Attributes"
   ]
  },
  {
   "cell_type": "code",
   "execution_count": 3,
   "metadata": {},
   "outputs": [
    {
     "data": {
      "text/html": [
       "<div>\n",
       "<style scoped>\n",
       "    .dataframe tbody tr th:only-of-type {\n",
       "        vertical-align: middle;\n",
       "    }\n",
       "\n",
       "    .dataframe tbody tr th {\n",
       "        vertical-align: top;\n",
       "    }\n",
       "\n",
       "    .dataframe thead th {\n",
       "        text-align: right;\n",
       "    }\n",
       "</style>\n",
       "<table border=\"1\" class=\"dataframe\">\n",
       "  <thead>\n",
       "    <tr style=\"text-align: right;\">\n",
       "      <th></th>\n",
       "      <th>IntRate</th>\n",
       "      <th>LoanAmt</th>\n",
       "      <th>LoanTerm</th>\n",
       "      <th>Debt2Inc</th>\n",
       "      <th>Home__MORT</th>\n",
       "      <th>Home__OWN</th>\n",
       "      <th>Home__RENT</th>\n",
       "      <th>MonthlyInc</th>\n",
       "      <th>RevCredBal</th>\n",
       "      <th>FICO</th>\n",
       "      <th>EmpLen</th>\n",
       "    </tr>\n",
       "    <tr>\n",
       "      <th>ID</th>\n",
       "      <th></th>\n",
       "      <th></th>\n",
       "      <th></th>\n",
       "      <th></th>\n",
       "      <th></th>\n",
       "      <th></th>\n",
       "      <th></th>\n",
       "      <th></th>\n",
       "      <th></th>\n",
       "      <th></th>\n",
       "      <th></th>\n",
       "    </tr>\n",
       "  </thead>\n",
       "  <tbody>\n",
       "    <tr>\n",
       "      <th>81174</th>\n",
       "      <td>8.90</td>\n",
       "      <td>20000</td>\n",
       "      <td>0</td>\n",
       "      <td>14.90</td>\n",
       "      <td>1</td>\n",
       "      <td>0</td>\n",
       "      <td>0</td>\n",
       "      <td>6541.67</td>\n",
       "      <td>14272.0</td>\n",
       "      <td>737</td>\n",
       "      <td>0</td>\n",
       "    </tr>\n",
       "    <tr>\n",
       "      <th>99592</th>\n",
       "      <td>12.12</td>\n",
       "      <td>19200</td>\n",
       "      <td>0</td>\n",
       "      <td>28.36</td>\n",
       "      <td>1</td>\n",
       "      <td>0</td>\n",
       "      <td>0</td>\n",
       "      <td>4583.33</td>\n",
       "      <td>11140.0</td>\n",
       "      <td>717</td>\n",
       "      <td>2</td>\n",
       "    </tr>\n",
       "    <tr>\n",
       "      <th>80059</th>\n",
       "      <td>21.98</td>\n",
       "      <td>35000</td>\n",
       "      <td>1</td>\n",
       "      <td>23.81</td>\n",
       "      <td>1</td>\n",
       "      <td>0</td>\n",
       "      <td>0</td>\n",
       "      <td>11500.00</td>\n",
       "      <td>21977.0</td>\n",
       "      <td>692</td>\n",
       "      <td>2</td>\n",
       "    </tr>\n",
       "    <tr>\n",
       "      <th>33182</th>\n",
       "      <td>11.71</td>\n",
       "      <td>12000</td>\n",
       "      <td>0</td>\n",
       "      <td>18.78</td>\n",
       "      <td>0</td>\n",
       "      <td>0</td>\n",
       "      <td>1</td>\n",
       "      <td>3195.00</td>\n",
       "      <td>14469.0</td>\n",
       "      <td>697</td>\n",
       "      <td>9</td>\n",
       "    </tr>\n",
       "    <tr>\n",
       "      <th>62403</th>\n",
       "      <td>15.31</td>\n",
       "      <td>6000</td>\n",
       "      <td>0</td>\n",
       "      <td>20.05</td>\n",
       "      <td>0</td>\n",
       "      <td>1</td>\n",
       "      <td>0</td>\n",
       "      <td>4891.67</td>\n",
       "      <td>10391.0</td>\n",
       "      <td>672</td>\n",
       "      <td>3</td>\n",
       "    </tr>\n",
       "  </tbody>\n",
       "</table>\n",
       "</div>"
      ],
      "text/plain": [
       "       IntRate  LoanAmt  LoanTerm  Debt2Inc  Home__MORT  Home__OWN  \\\n",
       "ID                                                                   \n",
       "81174     8.90    20000         0     14.90           1          0   \n",
       "99592    12.12    19200         0     28.36           1          0   \n",
       "80059    21.98    35000         1     23.81           1          0   \n",
       "33182    11.71    12000         0     18.78           0          0   \n",
       "62403    15.31     6000         0     20.05           0          1   \n",
       "\n",
       "       Home__RENT  MonthlyInc  RevCredBal  FICO  EmpLen  \n",
       "ID                                                       \n",
       "81174           0     6541.67     14272.0   737       0  \n",
       "99592           0     4583.33     11140.0   717       2  \n",
       "80059           0    11500.00     21977.0   692       2  \n",
       "33182           1     3195.00     14469.0   697       9  \n",
       "62403           0     4891.67     10391.0   672       3  "
      ]
     },
     "execution_count": 3,
     "metadata": {},
     "output_type": "execute_result"
    }
   ],
   "source": [
    "loan_data = pd.read_csv('loansDataClean.csv', index_col = 'ID')\n",
    "loan_data.head()"
   ]
  },
  {
   "cell_type": "markdown",
   "metadata": {},
   "source": [
    "### Step B: Linear Regression Analysis on Best Model"
   ]
  },
  {
   "cell_type": "code",
   "execution_count": 4,
   "metadata": {},
   "outputs": [
    {
     "data": {
      "text/plain": [
       "array([[ 1.1276208 , -0.4745259 , -0.1056352 ,  1.14115464, -0.30263639,\n",
       "        -0.9641138 ,  0.32047414,  0.02474645,  0.97751917, -1.53355396],\n",
       "       [ 1.02010707, -0.4745259 ,  1.65831149,  1.14115464, -0.30263639,\n",
       "        -0.9641138 , -0.29431579, -0.20378752,  0.37469848, -0.96624262],\n",
       "       [ 3.14350321,  2.10736655,  1.06202936,  1.14115464, -0.30263639,\n",
       "        -0.9641138 ,  1.87706358,  0.58696046, -0.37882739, -0.96624262],\n",
       "       [ 0.05248351, -0.4745259 ,  0.40284275, -0.87630543, -0.30263639,\n",
       "         1.03722195, -0.73016008,  0.03912104, -0.22812221,  1.0193471 ],\n",
       "       [-0.75386945, -0.4745259 ,  0.56927754, -0.87630543,  3.30429529,\n",
       "        -0.9641138 , -0.19751732, -0.25844012, -0.98164808, -0.68258694]])"
      ]
     },
     "execution_count": 4,
     "metadata": {},
     "output_type": "execute_result"
    }
   ],
   "source": [
    "Y = loan_data [['IntRate']]\n",
    "X = loan_data.drop(['IntRate'], axis=1)\n",
    "sc = StandardScaler()\n",
    "sc.fit(X)\n",
    "X_std = sc.transform(X)\n",
    "X_std[:5]"
   ]
  },
  {
   "cell_type": "code",
   "execution_count": 5,
   "metadata": {},
   "outputs": [],
   "source": [
    "X_std = sm.add_constant(X_std)"
   ]
  },
  {
   "cell_type": "code",
   "execution_count": 6,
   "metadata": {},
   "outputs": [
    {
     "data": {
      "text/html": [
       "<table class=\"simpletable\">\n",
       "<caption>OLS Regression Results</caption>\n",
       "<tr>\n",
       "  <th>Dep. Variable:</th>         <td>IntRate</td>     <th>  R-squared:         </th> <td>   0.754</td>\n",
       "</tr>\n",
       "<tr>\n",
       "  <th>Model:</th>                   <td>OLS</td>       <th>  Adj. R-squared:    </th> <td>   0.753</td>\n",
       "</tr>\n",
       "<tr>\n",
       "  <th>Method:</th>             <td>Least Squares</td>  <th>  F-statistic:       </th> <td>   593.5</td>\n",
       "</tr>\n",
       "<tr>\n",
       "  <th>Date:</th>             <td>Sun, 20 Oct 2019</td> <th>  Prob (F-statistic):</th>  <td>  0.00</td> \n",
       "</tr>\n",
       "<tr>\n",
       "  <th>Time:</th>                 <td>16:34:35</td>     <th>  Log-Likelihood:    </th> <td> -3771.3</td>\n",
       "</tr>\n",
       "<tr>\n",
       "  <th>No. Observations:</th>      <td>  1752</td>      <th>  AIC:               </th> <td>   7563.</td>\n",
       "</tr>\n",
       "<tr>\n",
       "  <th>Df Residuals:</th>          <td>  1742</td>      <th>  BIC:               </th> <td>   7617.</td>\n",
       "</tr>\n",
       "<tr>\n",
       "  <th>Df Model:</th>              <td>     9</td>      <th>                     </th>     <td> </td>   \n",
       "</tr>\n",
       "<tr>\n",
       "  <th>Covariance Type:</th>      <td>nonrobust</td>    <th>                     </th>     <td> </td>   \n",
       "</tr>\n",
       "</table>\n",
       "<table class=\"simpletable\">\n",
       "<tr>\n",
       "    <td></td>       <th>coef</th>     <th>std err</th>      <th>t</th>      <th>P>|t|</th>  <th>[0.025</th>    <th>0.975]</th>  \n",
       "</tr>\n",
       "<tr>\n",
       "  <th>const</th> <td>   13.1208</td> <td>    0.050</td> <td>  262.957</td> <td> 0.000</td> <td>   13.023</td> <td>   13.219</td>\n",
       "</tr>\n",
       "<tr>\n",
       "  <th>x1</th>    <td>    1.0979</td> <td>    0.062</td> <td>   17.676</td> <td> 0.000</td> <td>    0.976</td> <td>    1.220</td>\n",
       "</tr>\n",
       "<tr>\n",
       "  <th>x2</th>    <td>    1.3223</td> <td>    0.054</td> <td>   24.460</td> <td> 0.000</td> <td>    1.216</td> <td>    1.428</td>\n",
       "</tr>\n",
       "<tr>\n",
       "  <th>x3</th>    <td>   -0.1068</td> <td>    0.055</td> <td>   -1.930</td> <td> 0.054</td> <td>   -0.215</td> <td>    0.002</td>\n",
       "</tr>\n",
       "<tr>\n",
       "  <th>x4</th>    <td>   -0.0873</td> <td>    0.031</td> <td>   -2.829</td> <td> 0.005</td> <td>   -0.148</td> <td>   -0.027</td>\n",
       "</tr>\n",
       "<tr>\n",
       "  <th>x5</th>    <td>    0.0467</td> <td>    0.043</td> <td>    1.075</td> <td> 0.282</td> <td>   -0.038</td> <td>    0.132</td>\n",
       "</tr>\n",
       "<tr>\n",
       "  <th>x6</th>    <td>    0.0607</td> <td>    0.030</td> <td>    2.035</td> <td> 0.042</td> <td>    0.002</td> <td>    0.119</td>\n",
       "</tr>\n",
       "<tr>\n",
       "  <th>x7</th>    <td>   -0.0994</td> <td>    0.063</td> <td>   -1.568</td> <td> 0.117</td> <td>   -0.224</td> <td>    0.025</td>\n",
       "</tr>\n",
       "<tr>\n",
       "  <th>x8</th>    <td>   -0.0919</td> <td>    0.060</td> <td>   -1.532</td> <td> 0.126</td> <td>   -0.209</td> <td>    0.026</td>\n",
       "</tr>\n",
       "<tr>\n",
       "  <th>x9</th>    <td>   -3.1247</td> <td>    0.052</td> <td>  -60.423</td> <td> 0.000</td> <td>   -3.226</td> <td>   -3.023</td>\n",
       "</tr>\n",
       "<tr>\n",
       "  <th>x10</th>   <td>    0.0402</td> <td>    0.052</td> <td>    0.772</td> <td> 0.440</td> <td>   -0.062</td> <td>    0.142</td>\n",
       "</tr>\n",
       "</table>\n",
       "<table class=\"simpletable\">\n",
       "<tr>\n",
       "  <th>Omnibus:</th>       <td>112.621</td> <th>  Durbin-Watson:     </th> <td>   1.934</td>\n",
       "</tr>\n",
       "<tr>\n",
       "  <th>Prob(Omnibus):</th> <td> 0.000</td>  <th>  Jarque-Bera (JB):  </th> <td> 187.144</td>\n",
       "</tr>\n",
       "<tr>\n",
       "  <th>Skew:</th>          <td> 0.492</td>  <th>  Prob(JB):          </th> <td>2.30e-41</td>\n",
       "</tr>\n",
       "<tr>\n",
       "  <th>Kurtosis:</th>      <td> 4.263</td>  <th>  Cond. No.          </th> <td>6.28e+15</td>\n",
       "</tr>\n",
       "</table><br/><br/>Warnings:<br/>[1] Standard Errors assume that the covariance matrix of the errors is correctly specified.<br/>[2] The smallest eigenvalue is 1.1e-28. This might indicate that there are<br/>strong multicollinearity problems or that the design matrix is singular."
      ],
      "text/plain": [
       "<class 'statsmodels.iolib.summary.Summary'>\n",
       "\"\"\"\n",
       "                            OLS Regression Results                            \n",
       "==============================================================================\n",
       "Dep. Variable:                IntRate   R-squared:                       0.754\n",
       "Model:                            OLS   Adj. R-squared:                  0.753\n",
       "Method:                 Least Squares   F-statistic:                     593.5\n",
       "Date:                Sun, 20 Oct 2019   Prob (F-statistic):               0.00\n",
       "Time:                        16:34:35   Log-Likelihood:                -3771.3\n",
       "No. Observations:                1752   AIC:                             7563.\n",
       "Df Residuals:                    1742   BIC:                             7617.\n",
       "Df Model:                           9                                         \n",
       "Covariance Type:            nonrobust                                         \n",
       "==============================================================================\n",
       "                 coef    std err          t      P>|t|      [0.025      0.975]\n",
       "------------------------------------------------------------------------------\n",
       "const         13.1208      0.050    262.957      0.000      13.023      13.219\n",
       "x1             1.0979      0.062     17.676      0.000       0.976       1.220\n",
       "x2             1.3223      0.054     24.460      0.000       1.216       1.428\n",
       "x3            -0.1068      0.055     -1.930      0.054      -0.215       0.002\n",
       "x4            -0.0873      0.031     -2.829      0.005      -0.148      -0.027\n",
       "x5             0.0467      0.043      1.075      0.282      -0.038       0.132\n",
       "x6             0.0607      0.030      2.035      0.042       0.002       0.119\n",
       "x7            -0.0994      0.063     -1.568      0.117      -0.224       0.025\n",
       "x8            -0.0919      0.060     -1.532      0.126      -0.209       0.026\n",
       "x9            -3.1247      0.052    -60.423      0.000      -3.226      -3.023\n",
       "x10            0.0402      0.052      0.772      0.440      -0.062       0.142\n",
       "==============================================================================\n",
       "Omnibus:                      112.621   Durbin-Watson:                   1.934\n",
       "Prob(Omnibus):                  0.000   Jarque-Bera (JB):              187.144\n",
       "Skew:                           0.492   Prob(JB):                     2.30e-41\n",
       "Kurtosis:                       4.263   Cond. No.                     6.28e+15\n",
       "==============================================================================\n",
       "\n",
       "Warnings:\n",
       "[1] Standard Errors assume that the covariance matrix of the errors is correctly specified.\n",
       "[2] The smallest eigenvalue is 1.1e-28. This might indicate that there are\n",
       "strong multicollinearity problems or that the design matrix is singular.\n",
       "\"\"\""
      ]
     },
     "execution_count": 6,
     "metadata": {},
     "output_type": "execute_result"
    }
   ],
   "source": [
    "X_std0 = sm.add_constant(X_std)\n",
    "loan_model0 = sm.OLS(Y, X_std0)\n",
    "loan_model0 = loan_model0.fit()\n",
    "loan_model0.summary()"
   ]
  },
  {
   "cell_type": "code",
   "execution_count": 7,
   "metadata": {},
   "outputs": [
    {
     "data": {
      "text/html": [
       "<table class=\"simpletable\">\n",
       "<caption>OLS Regression Results</caption>\n",
       "<tr>\n",
       "  <th>Dep. Variable:</th>         <td>IntRate</td>     <th>  R-squared:         </th> <td>   0.754</td>\n",
       "</tr>\n",
       "<tr>\n",
       "  <th>Model:</th>                   <td>OLS</td>       <th>  Adj. R-squared:    </th> <td>   0.753</td>\n",
       "</tr>\n",
       "<tr>\n",
       "  <th>Method:</th>             <td>Least Squares</td>  <th>  F-statistic:       </th> <td>   667.8</td>\n",
       "</tr>\n",
       "<tr>\n",
       "  <th>Date:</th>             <td>Sun, 20 Oct 2019</td> <th>  Prob (F-statistic):</th>  <td>  0.00</td> \n",
       "</tr>\n",
       "<tr>\n",
       "  <th>Time:</th>                 <td>16:34:35</td>     <th>  Log-Likelihood:    </th> <td> -3771.6</td>\n",
       "</tr>\n",
       "<tr>\n",
       "  <th>No. Observations:</th>      <td>  1752</td>      <th>  AIC:               </th> <td>   7561.</td>\n",
       "</tr>\n",
       "<tr>\n",
       "  <th>Df Residuals:</th>          <td>  1743</td>      <th>  BIC:               </th> <td>   7610.</td>\n",
       "</tr>\n",
       "<tr>\n",
       "  <th>Df Model:</th>              <td>     8</td>      <th>                     </th>     <td> </td>   \n",
       "</tr>\n",
       "<tr>\n",
       "  <th>Covariance Type:</th>      <td>nonrobust</td>    <th>                     </th>     <td> </td>   \n",
       "</tr>\n",
       "</table>\n",
       "<table class=\"simpletable\">\n",
       "<tr>\n",
       "    <td></td>       <th>coef</th>     <th>std err</th>      <th>t</th>      <th>P>|t|</th>  <th>[0.025</th>    <th>0.975]</th>  \n",
       "</tr>\n",
       "<tr>\n",
       "  <th>const</th> <td>   13.1208</td> <td>    0.050</td> <td>  262.988</td> <td> 0.000</td> <td>   13.023</td> <td>   13.219</td>\n",
       "</tr>\n",
       "<tr>\n",
       "  <th>x1</th>    <td>    1.1026</td> <td>    0.062</td> <td>   17.842</td> <td> 0.000</td> <td>    0.981</td> <td>    1.224</td>\n",
       "</tr>\n",
       "<tr>\n",
       "  <th>x2</th>    <td>    1.3224</td> <td>    0.054</td> <td>   24.465</td> <td> 0.000</td> <td>    1.216</td> <td>    1.428</td>\n",
       "</tr>\n",
       "<tr>\n",
       "  <th>x3</th>    <td>   -0.1075</td> <td>    0.055</td> <td>   -1.943</td> <td> 0.052</td> <td>   -0.216</td> <td>    0.001</td>\n",
       "</tr>\n",
       "<tr>\n",
       "  <th>x4</th>    <td>   -0.0823</td> <td>    0.030</td> <td>   -2.728</td> <td> 0.006</td> <td>   -0.141</td> <td>   -0.023</td>\n",
       "</tr>\n",
       "<tr>\n",
       "  <th>x5</th>    <td>    0.0460</td> <td>    0.043</td> <td>    1.059</td> <td> 0.290</td> <td>   -0.039</td> <td>    0.131</td>\n",
       "</tr>\n",
       "<tr>\n",
       "  <th>x6</th>    <td>    0.0561</td> <td>    0.029</td> <td>    1.921</td> <td> 0.055</td> <td>   -0.001</td> <td>    0.113</td>\n",
       "</tr>\n",
       "<tr>\n",
       "  <th>x7</th>    <td>   -0.1011</td> <td>    0.063</td> <td>   -1.596</td> <td> 0.111</td> <td>   -0.225</td> <td>    0.023</td>\n",
       "</tr>\n",
       "<tr>\n",
       "  <th>x8</th>    <td>   -0.0890</td> <td>    0.060</td> <td>   -1.487</td> <td> 0.137</td> <td>   -0.206</td> <td>    0.028</td>\n",
       "</tr>\n",
       "<tr>\n",
       "  <th>x9</th>    <td>   -3.1254</td> <td>    0.052</td> <td>  -60.451</td> <td> 0.000</td> <td>   -3.227</td> <td>   -3.024</td>\n",
       "</tr>\n",
       "</table>\n",
       "<table class=\"simpletable\">\n",
       "<tr>\n",
       "  <th>Omnibus:</th>       <td>111.850</td> <th>  Durbin-Watson:     </th> <td>   1.934</td>\n",
       "</tr>\n",
       "<tr>\n",
       "  <th>Prob(Omnibus):</th> <td> 0.000</td>  <th>  Jarque-Bera (JB):  </th> <td> 185.978</td>\n",
       "</tr>\n",
       "<tr>\n",
       "  <th>Skew:</th>          <td> 0.489</td>  <th>  Prob(JB):          </th> <td>4.12e-41</td>\n",
       "</tr>\n",
       "<tr>\n",
       "  <th>Kurtosis:</th>      <td> 4.262</td>  <th>  Cond. No.          </th> <td>5.58e+15</td>\n",
       "</tr>\n",
       "</table><br/><br/>Warnings:<br/>[1] Standard Errors assume that the covariance matrix of the errors is correctly specified.<br/>[2] The smallest eigenvalue is 1.34e-28. This might indicate that there are<br/>strong multicollinearity problems or that the design matrix is singular."
      ],
      "text/plain": [
       "<class 'statsmodels.iolib.summary.Summary'>\n",
       "\"\"\"\n",
       "                            OLS Regression Results                            \n",
       "==============================================================================\n",
       "Dep. Variable:                IntRate   R-squared:                       0.754\n",
       "Model:                            OLS   Adj. R-squared:                  0.753\n",
       "Method:                 Least Squares   F-statistic:                     667.8\n",
       "Date:                Sun, 20 Oct 2019   Prob (F-statistic):               0.00\n",
       "Time:                        16:34:35   Log-Likelihood:                -3771.6\n",
       "No. Observations:                1752   AIC:                             7561.\n",
       "Df Residuals:                    1743   BIC:                             7610.\n",
       "Df Model:                           8                                         \n",
       "Covariance Type:            nonrobust                                         \n",
       "==============================================================================\n",
       "                 coef    std err          t      P>|t|      [0.025      0.975]\n",
       "------------------------------------------------------------------------------\n",
       "const         13.1208      0.050    262.988      0.000      13.023      13.219\n",
       "x1             1.1026      0.062     17.842      0.000       0.981       1.224\n",
       "x2             1.3224      0.054     24.465      0.000       1.216       1.428\n",
       "x3            -0.1075      0.055     -1.943      0.052      -0.216       0.001\n",
       "x4            -0.0823      0.030     -2.728      0.006      -0.141      -0.023\n",
       "x5             0.0460      0.043      1.059      0.290      -0.039       0.131\n",
       "x6             0.0561      0.029      1.921      0.055      -0.001       0.113\n",
       "x7            -0.1011      0.063     -1.596      0.111      -0.225       0.023\n",
       "x8            -0.0890      0.060     -1.487      0.137      -0.206       0.028\n",
       "x9            -3.1254      0.052    -60.451      0.000      -3.227      -3.024\n",
       "==============================================================================\n",
       "Omnibus:                      111.850   Durbin-Watson:                   1.934\n",
       "Prob(Omnibus):                  0.000   Jarque-Bera (JB):              185.978\n",
       "Skew:                           0.489   Prob(JB):                     4.12e-41\n",
       "Kurtosis:                       4.262   Cond. No.                     5.58e+15\n",
       "==============================================================================\n",
       "\n",
       "Warnings:\n",
       "[1] Standard Errors assume that the covariance matrix of the errors is correctly specified.\n",
       "[2] The smallest eigenvalue is 1.34e-28. This might indicate that there are\n",
       "strong multicollinearity problems or that the design matrix is singular.\n",
       "\"\"\""
      ]
     },
     "execution_count": 7,
     "metadata": {},
     "output_type": "execute_result"
    }
   ],
   "source": [
    "X_std1 = np.delete(X_std, [10], axis=1)\n",
    "X_std1 = sm.add_constant(X_std1)\n",
    "loan_model1 = sm.OLS(Y, X_std1)\n",
    "loan_model1 = loan_model1.fit()\n",
    "loan_model1.summary()"
   ]
  },
  {
   "cell_type": "code",
   "execution_count": 8,
   "metadata": {},
   "outputs": [
    {
     "data": {
      "text/html": [
       "<table class=\"simpletable\">\n",
       "<caption>OLS Regression Results</caption>\n",
       "<tr>\n",
       "  <th>Dep. Variable:</th>         <td>IntRate</td>     <th>  R-squared:         </th> <td>   0.754</td>\n",
       "</tr>\n",
       "<tr>\n",
       "  <th>Model:</th>                   <td>OLS</td>       <th>  Adj. R-squared:    </th> <td>   0.753</td>\n",
       "</tr>\n",
       "<tr>\n",
       "  <th>Method:</th>             <td>Least Squares</td>  <th>  F-statistic:       </th> <td>   667.8</td>\n",
       "</tr>\n",
       "<tr>\n",
       "  <th>Date:</th>             <td>Sun, 20 Oct 2019</td> <th>  Prob (F-statistic):</th>  <td>  0.00</td> \n",
       "</tr>\n",
       "<tr>\n",
       "  <th>Time:</th>                 <td>16:34:35</td>     <th>  Log-Likelihood:    </th> <td> -3771.6</td>\n",
       "</tr>\n",
       "<tr>\n",
       "  <th>No. Observations:</th>      <td>  1752</td>      <th>  AIC:               </th> <td>   7561.</td>\n",
       "</tr>\n",
       "<tr>\n",
       "  <th>Df Residuals:</th>          <td>  1743</td>      <th>  BIC:               </th> <td>   7610.</td>\n",
       "</tr>\n",
       "<tr>\n",
       "  <th>Df Model:</th>              <td>     8</td>      <th>                     </th>     <td> </td>   \n",
       "</tr>\n",
       "<tr>\n",
       "  <th>Covariance Type:</th>      <td>nonrobust</td>    <th>                     </th>     <td> </td>   \n",
       "</tr>\n",
       "</table>\n",
       "<table class=\"simpletable\">\n",
       "<tr>\n",
       "    <td></td>       <th>coef</th>     <th>std err</th>      <th>t</th>      <th>P>|t|</th>  <th>[0.025</th>    <th>0.975]</th>  \n",
       "</tr>\n",
       "<tr>\n",
       "  <th>const</th> <td>   13.1208</td> <td>    0.050</td> <td>  262.988</td> <td> 0.000</td> <td>   13.023</td> <td>   13.219</td>\n",
       "</tr>\n",
       "<tr>\n",
       "  <th>x1</th>    <td>    1.1026</td> <td>    0.062</td> <td>   17.842</td> <td> 0.000</td> <td>    0.981</td> <td>    1.224</td>\n",
       "</tr>\n",
       "<tr>\n",
       "  <th>x2</th>    <td>    1.3224</td> <td>    0.054</td> <td>   24.465</td> <td> 0.000</td> <td>    1.216</td> <td>    1.428</td>\n",
       "</tr>\n",
       "<tr>\n",
       "  <th>x3</th>    <td>   -0.1075</td> <td>    0.055</td> <td>   -1.943</td> <td> 0.052</td> <td>   -0.216</td> <td>    0.001</td>\n",
       "</tr>\n",
       "<tr>\n",
       "  <th>x4</th>    <td>   -0.1645</td> <td>    0.095</td> <td>   -1.738</td> <td> 0.082</td> <td>   -0.350</td> <td>    0.021</td>\n",
       "</tr>\n",
       "<tr>\n",
       "  <th>x5</th>    <td>   -0.0267</td> <td>    0.093</td> <td>   -0.286</td> <td> 0.775</td> <td>   -0.210</td> <td>    0.157</td>\n",
       "</tr>\n",
       "<tr>\n",
       "  <th>x6</th>    <td>   -0.1011</td> <td>    0.063</td> <td>   -1.596</td> <td> 0.111</td> <td>   -0.225</td> <td>    0.023</td>\n",
       "</tr>\n",
       "<tr>\n",
       "  <th>x7</th>    <td>   -0.0890</td> <td>    0.060</td> <td>   -1.487</td> <td> 0.137</td> <td>   -0.206</td> <td>    0.028</td>\n",
       "</tr>\n",
       "<tr>\n",
       "  <th>x8</th>    <td>   -3.1254</td> <td>    0.052</td> <td>  -60.451</td> <td> 0.000</td> <td>   -3.227</td> <td>   -3.024</td>\n",
       "</tr>\n",
       "</table>\n",
       "<table class=\"simpletable\">\n",
       "<tr>\n",
       "  <th>Omnibus:</th>       <td>111.850</td> <th>  Durbin-Watson:     </th> <td>   1.934</td>\n",
       "</tr>\n",
       "<tr>\n",
       "  <th>Prob(Omnibus):</th> <td> 0.000</td>  <th>  Jarque-Bera (JB):  </th> <td> 185.978</td>\n",
       "</tr>\n",
       "<tr>\n",
       "  <th>Skew:</th>          <td> 0.489</td>  <th>  Prob(JB):          </th> <td>4.12e-41</td>\n",
       "</tr>\n",
       "<tr>\n",
       "  <th>Kurtosis:</th>      <td> 4.262</td>  <th>  Cond. No.          </th> <td>    3.93</td>\n",
       "</tr>\n",
       "</table><br/><br/>Warnings:<br/>[1] Standard Errors assume that the covariance matrix of the errors is correctly specified."
      ],
      "text/plain": [
       "<class 'statsmodels.iolib.summary.Summary'>\n",
       "\"\"\"\n",
       "                            OLS Regression Results                            \n",
       "==============================================================================\n",
       "Dep. Variable:                IntRate   R-squared:                       0.754\n",
       "Model:                            OLS   Adj. R-squared:                  0.753\n",
       "Method:                 Least Squares   F-statistic:                     667.8\n",
       "Date:                Sun, 20 Oct 2019   Prob (F-statistic):               0.00\n",
       "Time:                        16:34:35   Log-Likelihood:                -3771.6\n",
       "No. Observations:                1752   AIC:                             7561.\n",
       "Df Residuals:                    1743   BIC:                             7610.\n",
       "Df Model:                           8                                         \n",
       "Covariance Type:            nonrobust                                         \n",
       "==============================================================================\n",
       "                 coef    std err          t      P>|t|      [0.025      0.975]\n",
       "------------------------------------------------------------------------------\n",
       "const         13.1208      0.050    262.988      0.000      13.023      13.219\n",
       "x1             1.1026      0.062     17.842      0.000       0.981       1.224\n",
       "x2             1.3224      0.054     24.465      0.000       1.216       1.428\n",
       "x3            -0.1075      0.055     -1.943      0.052      -0.216       0.001\n",
       "x4            -0.1645      0.095     -1.738      0.082      -0.350       0.021\n",
       "x5            -0.0267      0.093     -0.286      0.775      -0.210       0.157\n",
       "x6            -0.1011      0.063     -1.596      0.111      -0.225       0.023\n",
       "x7            -0.0890      0.060     -1.487      0.137      -0.206       0.028\n",
       "x8            -3.1254      0.052    -60.451      0.000      -3.227      -3.024\n",
       "==============================================================================\n",
       "Omnibus:                      111.850   Durbin-Watson:                   1.934\n",
       "Prob(Omnibus):                  0.000   Jarque-Bera (JB):              185.978\n",
       "Skew:                           0.489   Prob(JB):                     4.12e-41\n",
       "Kurtosis:                       4.262   Cond. No.                         3.93\n",
       "==============================================================================\n",
       "\n",
       "Warnings:\n",
       "[1] Standard Errors assume that the covariance matrix of the errors is correctly specified.\n",
       "\"\"\""
      ]
     },
     "execution_count": 8,
     "metadata": {},
     "output_type": "execute_result"
    }
   ],
   "source": [
    "X_std2 = np.delete(X_std, [5,10], axis=1)\n",
    "X_std2 = sm.add_constant(X_std2)\n",
    "loan_model2 = sm.OLS(Y, X_std2)\n",
    "loan_model2 = loan_model2.fit()\n",
    "loan_model2.summary()"
   ]
  },
  {
   "cell_type": "code",
   "execution_count": 9,
   "metadata": {},
   "outputs": [
    {
     "data": {
      "text/html": [
       "<table class=\"simpletable\">\n",
       "<caption>OLS Regression Results</caption>\n",
       "<tr>\n",
       "  <th>Dep. Variable:</th>         <td>IntRate</td>     <th>  R-squared:         </th> <td>   0.754</td>\n",
       "</tr>\n",
       "<tr>\n",
       "  <th>Model:</th>                   <td>OLS</td>       <th>  Adj. R-squared:    </th> <td>   0.753</td>\n",
       "</tr>\n",
       "<tr>\n",
       "  <th>Method:</th>             <td>Least Squares</td>  <th>  F-statistic:       </th> <td>   763.6</td>\n",
       "</tr>\n",
       "<tr>\n",
       "  <th>Date:</th>             <td>Sun, 20 Oct 2019</td> <th>  Prob (F-statistic):</th>  <td>  0.00</td> \n",
       "</tr>\n",
       "<tr>\n",
       "  <th>Time:</th>                 <td>16:34:35</td>     <th>  Log-Likelihood:    </th> <td> -3771.6</td>\n",
       "</tr>\n",
       "<tr>\n",
       "  <th>No. Observations:</th>      <td>  1752</td>      <th>  AIC:               </th> <td>   7559.</td>\n",
       "</tr>\n",
       "<tr>\n",
       "  <th>Df Residuals:</th>          <td>  1744</td>      <th>  BIC:               </th> <td>   7603.</td>\n",
       "</tr>\n",
       "<tr>\n",
       "  <th>Df Model:</th>              <td>     7</td>      <th>                     </th>     <td> </td>   \n",
       "</tr>\n",
       "<tr>\n",
       "  <th>Covariance Type:</th>      <td>nonrobust</td>    <th>                     </th>     <td> </td>   \n",
       "</tr>\n",
       "</table>\n",
       "<table class=\"simpletable\">\n",
       "<tr>\n",
       "    <td></td>       <th>coef</th>     <th>std err</th>      <th>t</th>      <th>P>|t|</th>  <th>[0.025</th>    <th>0.975]</th>  \n",
       "</tr>\n",
       "<tr>\n",
       "  <th>const</th> <td>   13.1208</td> <td>    0.050</td> <td>  263.057</td> <td> 0.000</td> <td>   13.023</td> <td>   13.219</td>\n",
       "</tr>\n",
       "<tr>\n",
       "  <th>x1</th>    <td>    1.1026</td> <td>    0.062</td> <td>   17.846</td> <td> 0.000</td> <td>    0.981</td> <td>    1.224</td>\n",
       "</tr>\n",
       "<tr>\n",
       "  <th>x2</th>    <td>    1.3223</td> <td>    0.054</td> <td>   24.470</td> <td> 0.000</td> <td>    1.216</td> <td>    1.428</td>\n",
       "</tr>\n",
       "<tr>\n",
       "  <th>x3</th>    <td>   -0.1071</td> <td>    0.055</td> <td>   -1.937</td> <td> 0.053</td> <td>   -0.216</td> <td>    0.001</td>\n",
       "</tr>\n",
       "<tr>\n",
       "  <th>x4</th>    <td>   -0.1419</td> <td>    0.052</td> <td>   -2.717</td> <td> 0.007</td> <td>   -0.244</td> <td>   -0.039</td>\n",
       "</tr>\n",
       "<tr>\n",
       "  <th>x5</th>    <td>   -0.1015</td> <td>    0.063</td> <td>   -1.604</td> <td> 0.109</td> <td>   -0.226</td> <td>    0.023</td>\n",
       "</tr>\n",
       "<tr>\n",
       "  <th>x6</th>    <td>   -0.0888</td> <td>    0.060</td> <td>   -1.484</td> <td> 0.138</td> <td>   -0.206</td> <td>    0.029</td>\n",
       "</tr>\n",
       "<tr>\n",
       "  <th>x7</th>    <td>   -3.1247</td> <td>    0.052</td> <td>  -60.521</td> <td> 0.000</td> <td>   -3.226</td> <td>   -3.023</td>\n",
       "</tr>\n",
       "</table>\n",
       "<table class=\"simpletable\">\n",
       "<tr>\n",
       "  <th>Omnibus:</th>       <td>111.730</td> <th>  Durbin-Watson:     </th> <td>   1.934</td>\n",
       "</tr>\n",
       "<tr>\n",
       "  <th>Prob(Omnibus):</th> <td> 0.000</td>  <th>  Jarque-Bera (JB):  </th> <td> 185.466</td>\n",
       "</tr>\n",
       "<tr>\n",
       "  <th>Skew:</th>          <td> 0.489</td>  <th>  Prob(JB):          </th> <td>5.33e-41</td>\n",
       "</tr>\n",
       "<tr>\n",
       "  <th>Kurtosis:</th>      <td> 4.259</td>  <th>  Cond. No.          </th> <td>    2.33</td>\n",
       "</tr>\n",
       "</table><br/><br/>Warnings:<br/>[1] Standard Errors assume that the covariance matrix of the errors is correctly specified."
      ],
      "text/plain": [
       "<class 'statsmodels.iolib.summary.Summary'>\n",
       "\"\"\"\n",
       "                            OLS Regression Results                            \n",
       "==============================================================================\n",
       "Dep. Variable:                IntRate   R-squared:                       0.754\n",
       "Model:                            OLS   Adj. R-squared:                  0.753\n",
       "Method:                 Least Squares   F-statistic:                     763.6\n",
       "Date:                Sun, 20 Oct 2019   Prob (F-statistic):               0.00\n",
       "Time:                        16:34:35   Log-Likelihood:                -3771.6\n",
       "No. Observations:                1752   AIC:                             7559.\n",
       "Df Residuals:                    1744   BIC:                             7603.\n",
       "Df Model:                           7                                         \n",
       "Covariance Type:            nonrobust                                         \n",
       "==============================================================================\n",
       "                 coef    std err          t      P>|t|      [0.025      0.975]\n",
       "------------------------------------------------------------------------------\n",
       "const         13.1208      0.050    263.057      0.000      13.023      13.219\n",
       "x1             1.1026      0.062     17.846      0.000       0.981       1.224\n",
       "x2             1.3223      0.054     24.470      0.000       1.216       1.428\n",
       "x3            -0.1071      0.055     -1.937      0.053      -0.216       0.001\n",
       "x4            -0.1419      0.052     -2.717      0.007      -0.244      -0.039\n",
       "x5            -0.1015      0.063     -1.604      0.109      -0.226       0.023\n",
       "x6            -0.0888      0.060     -1.484      0.138      -0.206       0.029\n",
       "x7            -3.1247      0.052    -60.521      0.000      -3.226      -3.023\n",
       "==============================================================================\n",
       "Omnibus:                      111.730   Durbin-Watson:                   1.934\n",
       "Prob(Omnibus):                  0.000   Jarque-Bera (JB):              185.466\n",
       "Skew:                           0.489   Prob(JB):                     5.33e-41\n",
       "Kurtosis:                       4.259   Cond. No.                         2.33\n",
       "==============================================================================\n",
       "\n",
       "Warnings:\n",
       "[1] Standard Errors assume that the covariance matrix of the errors is correctly specified.\n",
       "\"\"\""
      ]
     },
     "execution_count": 9,
     "metadata": {},
     "output_type": "execute_result"
    }
   ],
   "source": [
    "X_std3 = np.delete(X_std, [5,6,10], axis=1)\n",
    "X_std3 = sm.add_constant(X_std3)\n",
    "loan_model3 = sm.OLS(Y, X_std3)\n",
    "loan_model3 = loan_model3.fit()\n",
    "loan_model3.summary()"
   ]
  },
  {
   "cell_type": "code",
   "execution_count": 10,
   "metadata": {},
   "outputs": [
    {
     "data": {
      "text/html": [
       "<table class=\"simpletable\">\n",
       "<caption>OLS Regression Results</caption>\n",
       "<tr>\n",
       "  <th>Dep. Variable:</th>         <td>IntRate</td>     <th>  R-squared:         </th> <td>   0.754</td>\n",
       "</tr>\n",
       "<tr>\n",
       "  <th>Model:</th>                   <td>OLS</td>       <th>  Adj. R-squared:    </th> <td>   0.753</td>\n",
       "</tr>\n",
       "<tr>\n",
       "  <th>Method:</th>             <td>Least Squares</td>  <th>  F-statistic:       </th> <td>   889.9</td>\n",
       "</tr>\n",
       "<tr>\n",
       "  <th>Date:</th>             <td>Sun, 20 Oct 2019</td> <th>  Prob (F-statistic):</th>  <td>  0.00</td> \n",
       "</tr>\n",
       "<tr>\n",
       "  <th>Time:</th>                 <td>16:34:35</td>     <th>  Log-Likelihood:    </th> <td> -3772.7</td>\n",
       "</tr>\n",
       "<tr>\n",
       "  <th>No. Observations:</th>      <td>  1752</td>      <th>  AIC:               </th> <td>   7559.</td>\n",
       "</tr>\n",
       "<tr>\n",
       "  <th>Df Residuals:</th>          <td>  1745</td>      <th>  BIC:               </th> <td>   7598.</td>\n",
       "</tr>\n",
       "<tr>\n",
       "  <th>Df Model:</th>              <td>     6</td>      <th>                     </th>     <td> </td>   \n",
       "</tr>\n",
       "<tr>\n",
       "  <th>Covariance Type:</th>      <td>nonrobust</td>    <th>                     </th>     <td> </td>   \n",
       "</tr>\n",
       "</table>\n",
       "<table class=\"simpletable\">\n",
       "<tr>\n",
       "    <td></td>       <th>coef</th>     <th>std err</th>      <th>t</th>      <th>P>|t|</th>  <th>[0.025</th>    <th>0.975]</th>  \n",
       "</tr>\n",
       "<tr>\n",
       "  <th>const</th> <td>   13.1208</td> <td>    0.050</td> <td>  262.966</td> <td> 0.000</td> <td>   13.023</td> <td>   13.219</td>\n",
       "</tr>\n",
       "<tr>\n",
       "  <th>x1</th>    <td>    1.0884</td> <td>    0.061</td> <td>   17.824</td> <td> 0.000</td> <td>    0.969</td> <td>    1.208</td>\n",
       "</tr>\n",
       "<tr>\n",
       "  <th>x2</th>    <td>    1.3228</td> <td>    0.054</td> <td>   24.472</td> <td> 0.000</td> <td>    1.217</td> <td>    1.429</td>\n",
       "</tr>\n",
       "<tr>\n",
       "  <th>x3</th>    <td>   -0.1315</td> <td>    0.053</td> <td>   -2.490</td> <td> 0.013</td> <td>   -0.235</td> <td>   -0.028</td>\n",
       "</tr>\n",
       "<tr>\n",
       "  <th>x4</th>    <td>   -0.1498</td> <td>    0.052</td> <td>   -2.883</td> <td> 0.004</td> <td>   -0.252</td> <td>   -0.048</td>\n",
       "</tr>\n",
       "<tr>\n",
       "  <th>x5</th>    <td>   -0.1362</td> <td>    0.059</td> <td>   -2.314</td> <td> 0.021</td> <td>   -0.252</td> <td>   -0.021</td>\n",
       "</tr>\n",
       "<tr>\n",
       "  <th>x6</th>    <td>   -3.1242</td> <td>    0.052</td> <td>  -60.492</td> <td> 0.000</td> <td>   -3.226</td> <td>   -3.023</td>\n",
       "</tr>\n",
       "</table>\n",
       "<table class=\"simpletable\">\n",
       "<tr>\n",
       "  <th>Omnibus:</th>       <td>109.817</td> <th>  Durbin-Watson:     </th> <td>   1.934</td>\n",
       "</tr>\n",
       "<tr>\n",
       "  <th>Prob(Omnibus):</th> <td> 0.000</td>  <th>  Jarque-Bera (JB):  </th> <td> 181.065</td>\n",
       "</tr>\n",
       "<tr>\n",
       "  <th>Skew:</th>          <td> 0.484</td>  <th>  Prob(JB):          </th> <td>4.81e-40</td>\n",
       "</tr>\n",
       "<tr>\n",
       "  <th>Kurtosis:</th>      <td> 4.242</td>  <th>  Cond. No.          </th> <td>    2.06</td>\n",
       "</tr>\n",
       "</table><br/><br/>Warnings:<br/>[1] Standard Errors assume that the covariance matrix of the errors is correctly specified."
      ],
      "text/plain": [
       "<class 'statsmodels.iolib.summary.Summary'>\n",
       "\"\"\"\n",
       "                            OLS Regression Results                            \n",
       "==============================================================================\n",
       "Dep. Variable:                IntRate   R-squared:                       0.754\n",
       "Model:                            OLS   Adj. R-squared:                  0.753\n",
       "Method:                 Least Squares   F-statistic:                     889.9\n",
       "Date:                Sun, 20 Oct 2019   Prob (F-statistic):               0.00\n",
       "Time:                        16:34:35   Log-Likelihood:                -3772.7\n",
       "No. Observations:                1752   AIC:                             7559.\n",
       "Df Residuals:                    1745   BIC:                             7598.\n",
       "Df Model:                           6                                         \n",
       "Covariance Type:            nonrobust                                         \n",
       "==============================================================================\n",
       "                 coef    std err          t      P>|t|      [0.025      0.975]\n",
       "------------------------------------------------------------------------------\n",
       "const         13.1208      0.050    262.966      0.000      13.023      13.219\n",
       "x1             1.0884      0.061     17.824      0.000       0.969       1.208\n",
       "x2             1.3228      0.054     24.472      0.000       1.217       1.429\n",
       "x3            -0.1315      0.053     -2.490      0.013      -0.235      -0.028\n",
       "x4            -0.1498      0.052     -2.883      0.004      -0.252      -0.048\n",
       "x5            -0.1362      0.059     -2.314      0.021      -0.252      -0.021\n",
       "x6            -3.1242      0.052    -60.492      0.000      -3.226      -3.023\n",
       "==============================================================================\n",
       "Omnibus:                      109.817   Durbin-Watson:                   1.934\n",
       "Prob(Omnibus):                  0.000   Jarque-Bera (JB):              181.065\n",
       "Skew:                           0.484   Prob(JB):                     4.81e-40\n",
       "Kurtosis:                       4.242   Cond. No.                         2.06\n",
       "==============================================================================\n",
       "\n",
       "Warnings:\n",
       "[1] Standard Errors assume that the covariance matrix of the errors is correctly specified.\n",
       "\"\"\""
      ]
     },
     "execution_count": 10,
     "metadata": {},
     "output_type": "execute_result"
    }
   ],
   "source": [
    "X_std4 = np.delete(X_std, [5,6,8,10], axis=1)\n",
    "X_std4 = sm.add_constant(X_std4)\n",
    "loan_model4 = sm.OLS(Y, X_std4)\n",
    "loan_model4 = loan_model4.fit()\n",
    "loan_model4.summary()"
   ]
  },
  {
   "cell_type": "markdown",
   "metadata": {},
   "source": [
    "### Use sklearn LinearRegression to run linear regression"
   ]
  },
  {
   "cell_type": "code",
   "execution_count": 11,
   "metadata": {},
   "outputs": [
    {
     "name": "stdout",
     "output_type": "stream",
     "text": [
      "Mean R-Squared Score: 0.7499595880630956\n"
     ]
    }
   ],
   "source": [
    "X_std = X_std4\n",
    "scores_list = []\n",
    "for rep in range(128):\n",
    "    lr = LinearRegression()\n",
    "    scores = cross_val_score(lr, X_std, Y, cv=8)\n",
    "    scores_list.append(scores.mean())\n",
    "print('Mean R-Squared Score:', sum (scores_list)/len (scores_list))"
   ]
  },
  {
   "cell_type": "markdown",
   "metadata": {},
   "source": [
    "#### random_state=33"
   ]
  },
  {
   "cell_type": "code",
   "execution_count": 12,
   "metadata": {},
   "outputs": [
    {
     "data": {
      "text/plain": [
       "array([[15.64255519],\n",
       "       [ 6.59548795],\n",
       "       [13.82204776],\n",
       "       [ 7.82483241],\n",
       "       [13.8250073 ]])"
      ]
     },
     "execution_count": 12,
     "metadata": {},
     "output_type": "execute_result"
    }
   ],
   "source": [
    "lr = LinearRegression()\n",
    "X_train, X_test, Y_train, Y_test = train_test_split(X_std,Y,random_state=33,test_size=0.2)\n",
    "model = lr.fit (X_train, Y_train)\n",
    "Y_pred = lr.predict (X_test)\n",
    "preds = Y_pred[:5]\n",
    "preds"
   ]
  },
  {
   "cell_type": "code",
   "execution_count": 13,
   "metadata": {},
   "outputs": [
    {
     "data": {
      "text/plain": [
       "array([[14.33],\n",
       "       [ 5.79],\n",
       "       [13.67],\n",
       "       [ 8.9 ],\n",
       "       [13.49]])"
      ]
     },
     "execution_count": 13,
     "metadata": {},
     "output_type": "execute_result"
    }
   ],
   "source": [
    "Y_test[:5].values"
   ]
  },
  {
   "cell_type": "code",
   "execution_count": 14,
   "metadata": {},
   "outputs": [
    {
     "data": {
      "text/plain": [
       "array([[ 0.        ,  1.08346743,  1.29230826, -0.0921673 , -0.15510927,\n",
       "        -0.15126294, -3.12942754]])"
      ]
     },
     "execution_count": 14,
     "metadata": {},
     "output_type": "execute_result"
    }
   ],
   "source": [
    "model.coef_"
   ]
  },
  {
   "cell_type": "code",
   "execution_count": 15,
   "metadata": {},
   "outputs": [
    {
     "data": {
      "text/plain": [
       "array([13.13233964])"
      ]
     },
     "execution_count": 15,
     "metadata": {},
     "output_type": "execute_result"
    }
   ],
   "source": [
    "model.intercept_"
   ]
  },
  {
   "cell_type": "code",
   "execution_count": 16,
   "metadata": {},
   "outputs": [
    {
     "name": "stdout",
     "output_type": "stream",
     "text": [
      "R-Squared Score: 0.7833961003750468\n"
     ]
    }
   ],
   "source": [
    "print('R-Squared Score:', model.score (X_test, Y_test))"
   ]
  },
  {
   "cell_type": "code",
   "execution_count": 17,
   "metadata": {},
   "outputs": [
    {
     "name": "stdout",
     "output_type": "stream",
     "text": [
      "MSE: 4.230840380528938\n"
     ]
    }
   ],
   "source": [
    "print('MSE:', metrics.mean_squared_error (Y_test, Y_pred))"
   ]
  },
  {
   "cell_type": "markdown",
   "metadata": {},
   "source": [
    "#### random_state=3"
   ]
  },
  {
   "cell_type": "code",
   "execution_count": 18,
   "metadata": {},
   "outputs": [
    {
     "data": {
      "text/plain": [
       "array([[11.06552759],\n",
       "       [13.77971589],\n",
       "       [12.59468905],\n",
       "       [ 6.80612659],\n",
       "       [ 9.26459797]])"
      ]
     },
     "execution_count": 18,
     "metadata": {},
     "output_type": "execute_result"
    }
   ],
   "source": [
    "lr = LinearRegression()\n",
    "X_train, X_test, Y_train, Y_test = train_test_split(X_std,Y,random_state=3,test_size=0.2)\n",
    "model = lr.fit (X_train, Y_train)\n",
    "Y_pred = lr.predict (X_test)\n",
    "preds = Y_pred[:5]\n",
    "preds"
   ]
  },
  {
   "cell_type": "code",
   "execution_count": 19,
   "metadata": {},
   "outputs": [
    {
     "data": {
      "text/plain": [
       "array([[ 8.49],\n",
       "       [16.29],\n",
       "       [14.09],\n",
       "       [ 6.62],\n",
       "       [ 7.88]])"
      ]
     },
     "execution_count": 19,
     "metadata": {},
     "output_type": "execute_result"
    }
   ],
   "source": [
    "Y_test[:5].values"
   ]
  },
  {
   "cell_type": "code",
   "execution_count": 20,
   "metadata": {},
   "outputs": [
    {
     "data": {
      "text/plain": [
       "array([[ 0.        ,  1.06963748,  1.2823738 , -0.13660673, -0.10849553,\n",
       "        -0.13872206, -3.16959378]])"
      ]
     },
     "execution_count": 20,
     "metadata": {},
     "output_type": "execute_result"
    }
   ],
   "source": [
    "model.coef_"
   ]
  },
  {
   "cell_type": "code",
   "execution_count": 21,
   "metadata": {},
   "outputs": [
    {
     "data": {
      "text/plain": [
       "array([13.11982758])"
      ]
     },
     "execution_count": 21,
     "metadata": {},
     "output_type": "execute_result"
    }
   ],
   "source": [
    "model.intercept_"
   ]
  },
  {
   "cell_type": "code",
   "execution_count": 22,
   "metadata": {},
   "outputs": [
    {
     "name": "stdout",
     "output_type": "stream",
     "text": [
      "R-Squared Score: 0.7489953851271478\n"
     ]
    }
   ],
   "source": [
    "print('R-Squared Score:', model.score (X_test, Y_test))"
   ]
  },
  {
   "cell_type": "code",
   "execution_count": 23,
   "metadata": {},
   "outputs": [
    {
     "name": "stdout",
     "output_type": "stream",
     "text": [
      "MSE: 4.680107072861487\n"
     ]
    }
   ],
   "source": [
    "print('MSE:', metrics.mean_squared_error (Y_test, Y_pred))"
   ]
  },
  {
   "cell_type": "markdown",
   "metadata": {},
   "source": [
    "#### random_state=13"
   ]
  },
  {
   "cell_type": "code",
   "execution_count": 24,
   "metadata": {},
   "outputs": [
    {
     "data": {
      "text/plain": [
       "array([[13.64000738],\n",
       "       [14.45046533],\n",
       "       [12.04869505],\n",
       "       [13.85777977],\n",
       "       [15.35512902]])"
      ]
     },
     "execution_count": 24,
     "metadata": {},
     "output_type": "execute_result"
    }
   ],
   "source": [
    "lr = LinearRegression()\n",
    "X_train, X_test, Y_train, Y_test = train_test_split(X_std,Y,random_state=13,test_size=0.2)\n",
    "model = lr.fit (X_train, Y_train)\n",
    "Y_pred = lr.predict (X_test)\n",
    "preds = Y_pred[:5]\n",
    "preds"
   ]
  },
  {
   "cell_type": "code",
   "execution_count": 25,
   "metadata": {},
   "outputs": [
    {
     "data": {
      "text/plain": [
       "array([[14.09],\n",
       "       [17.77],\n",
       "       [11.49],\n",
       "       [14.09],\n",
       "       [17.77]])"
      ]
     },
     "execution_count": 25,
     "metadata": {},
     "output_type": "execute_result"
    }
   ],
   "source": [
    "Y_test[:5].values"
   ]
  },
  {
   "cell_type": "code",
   "execution_count": 26,
   "metadata": {},
   "outputs": [
    {
     "data": {
      "text/plain": [
       "array([[ 0.        ,  1.04677445,  1.3520537 , -0.17063715, -0.13697887,\n",
       "        -0.1260454 , -3.17444375]])"
      ]
     },
     "execution_count": 26,
     "metadata": {},
     "output_type": "execute_result"
    }
   ],
   "source": [
    "model.coef_"
   ]
  },
  {
   "cell_type": "code",
   "execution_count": 27,
   "metadata": {},
   "outputs": [
    {
     "data": {
      "text/plain": [
       "array([13.13996531])"
      ]
     },
     "execution_count": 27,
     "metadata": {},
     "output_type": "execute_result"
    }
   ],
   "source": [
    "model.intercept_"
   ]
  },
  {
   "cell_type": "code",
   "execution_count": 28,
   "metadata": {},
   "outputs": [
    {
     "name": "stdout",
     "output_type": "stream",
     "text": [
      "R-Squared Score: 0.7465918616275109\n"
     ]
    }
   ],
   "source": [
    "print('R-Squared Score:', model.score (X_test, Y_test))"
   ]
  },
  {
   "cell_type": "code",
   "execution_count": 29,
   "metadata": {},
   "outputs": [
    {
     "name": "stdout",
     "output_type": "stream",
     "text": [
      "MSE: 4.226985637985071\n"
     ]
    }
   ],
   "source": [
    "print('MSE:', metrics.mean_squared_error (Y_test, Y_pred))"
   ]
  },
  {
   "cell_type": "markdown",
   "metadata": {},
   "source": [
    "#### random_state=23"
   ]
  },
  {
   "cell_type": "code",
   "execution_count": 30,
   "metadata": {},
   "outputs": [
    {
     "data": {
      "text/plain": [
       "array([[13.73591382],\n",
       "       [15.07196615],\n",
       "       [15.18774707],\n",
       "       [10.45677232],\n",
       "       [15.09663893]])"
      ]
     },
     "execution_count": 30,
     "metadata": {},
     "output_type": "execute_result"
    }
   ],
   "source": [
    "lr = LinearRegression()\n",
    "X_train, X_test, Y_train, Y_test = train_test_split(X_std,Y,random_state=23,test_size=0.2)\n",
    "model = lr.fit (X_train, Y_train)\n",
    "Y_pred = lr.predict (X_test)\n",
    "preds = Y_pred[:5]\n",
    "preds"
   ]
  },
  {
   "cell_type": "code",
   "execution_count": 31,
   "metadata": {},
   "outputs": [
    {
     "data": {
      "text/plain": [
       "array([[16.29],\n",
       "       [13.67],\n",
       "       [17.77],\n",
       "       [ 7.9 ],\n",
       "       [14.61]])"
      ]
     },
     "execution_count": 31,
     "metadata": {},
     "output_type": "execute_result"
    }
   ],
   "source": [
    "Y_test[:5].values"
   ]
  },
  {
   "cell_type": "code",
   "execution_count": 32,
   "metadata": {},
   "outputs": [
    {
     "data": {
      "text/plain": [
       "array([[ 0.        ,  1.12237293,  1.3481246 , -0.16711445, -0.15438311,\n",
       "        -0.21764075, -3.19576666]])"
      ]
     },
     "execution_count": 32,
     "metadata": {},
     "output_type": "execute_result"
    }
   ],
   "source": [
    "model.coef_"
   ]
  },
  {
   "cell_type": "code",
   "execution_count": 33,
   "metadata": {},
   "outputs": [
    {
     "data": {
      "text/plain": [
       "array([13.14614919])"
      ]
     },
     "execution_count": 33,
     "metadata": {},
     "output_type": "execute_result"
    }
   ],
   "source": [
    "model.intercept_"
   ]
  },
  {
   "cell_type": "code",
   "execution_count": 34,
   "metadata": {},
   "outputs": [
    {
     "name": "stdout",
     "output_type": "stream",
     "text": [
      "R-Squared Score: 0.713570896220894\n"
     ]
    }
   ],
   "source": [
    "print('R-Squared Score:', model.score (X_test, Y_test))"
   ]
  },
  {
   "cell_type": "code",
   "execution_count": 35,
   "metadata": {},
   "outputs": [
    {
     "name": "stdout",
     "output_type": "stream",
     "text": [
      "MSE: 4.587845716372342\n"
     ]
    }
   ],
   "source": [
    "print('MSE:', metrics.mean_squared_error (Y_test, Y_pred))"
   ]
  },
  {
   "cell_type": "markdown",
   "metadata": {},
   "source": [
    "### Step C: Ridge Regression Analysis on Best Model, alpha = 0"
   ]
  },
  {
   "cell_type": "code",
   "execution_count": 36,
   "metadata": {},
   "outputs": [],
   "source": [
    "X_train, X_test, Y_train, Y_test = train_test_split(X_std, Y, random_state=33, test_size=0.2)\n",
    "ridgemod = Ridge (alpha=0, normalize=True)\n",
    "ridgemod.fit (X_train, Y_train)\n",
    "Y_pred = ridgemod.predict (X_test) "
   ]
  },
  {
   "cell_type": "code",
   "execution_count": 37,
   "metadata": {},
   "outputs": [
    {
     "data": {
      "text/plain": [
       "array([[15.64255519],\n",
       "       [ 6.59548795],\n",
       "       [13.82204776],\n",
       "       [ 7.82483241],\n",
       "       [13.8250073 ]])"
      ]
     },
     "execution_count": 37,
     "metadata": {},
     "output_type": "execute_result"
    }
   ],
   "source": [
    "preds = Y_pred[:5]\n",
    "preds"
   ]
  },
  {
   "cell_type": "code",
   "execution_count": 38,
   "metadata": {},
   "outputs": [
    {
     "data": {
      "text/plain": [
       "array([[14.33],\n",
       "       [ 5.79],\n",
       "       [13.67],\n",
       "       [ 8.9 ],\n",
       "       [13.49]])"
      ]
     },
     "execution_count": 38,
     "metadata": {},
     "output_type": "execute_result"
    }
   ],
   "source": [
    "acts = Y_test[:5].values\n",
    "acts"
   ]
  },
  {
   "cell_type": "code",
   "execution_count": 39,
   "metadata": {},
   "outputs": [
    {
     "data": {
      "text/plain": [
       "array([[ 0.        ,  1.08346743,  1.29230826, -0.0921673 , -0.15510927,\n",
       "        -0.15126294, -3.12942754]])"
      ]
     },
     "execution_count": 39,
     "metadata": {},
     "output_type": "execute_result"
    }
   ],
   "source": [
    "ridgemod.coef_"
   ]
  },
  {
   "cell_type": "code",
   "execution_count": 40,
   "metadata": {},
   "outputs": [
    {
     "data": {
      "text/plain": [
       "array([13.13233964])"
      ]
     },
     "execution_count": 40,
     "metadata": {},
     "output_type": "execute_result"
    }
   ],
   "source": [
    "ridgemod.intercept_"
   ]
  },
  {
   "cell_type": "code",
   "execution_count": 41,
   "metadata": {},
   "outputs": [
    {
     "name": "stdout",
     "output_type": "stream",
     "text": [
      "R-Squared Score: 0.7833961003750467\n"
     ]
    }
   ],
   "source": [
    "print ('R-Squared Score:', ridgemod.score (X_test, Y_test))"
   ]
  },
  {
   "cell_type": "code",
   "execution_count": 42,
   "metadata": {},
   "outputs": [
    {
     "name": "stdout",
     "output_type": "stream",
     "text": [
      "Ridge alpha=0 MSE 4.230840380528939\n"
     ]
    }
   ],
   "source": [
    "print (\"Ridge alpha=0 MSE\", metrics.mean_squared_error (Y_test, Y_pred))"
   ]
  },
  {
   "cell_type": "markdown",
   "metadata": {},
   "source": [
    "### Step D: Ridge Regression on Best Model using Alpha Range"
   ]
  },
  {
   "cell_type": "code",
   "execution_count": 43,
   "metadata": {},
   "outputs": [
    {
     "name": "stdout",
     "output_type": "stream",
     "text": [
      "RidgeCV alpha array [0.01, 0.1, 0.25, 0.5, 0.75, 1, 2.5, 5, 7.5, 10, 25, 50, 75, 100]\n"
     ]
    }
   ],
   "source": [
    "alpha_range = [0.01, 0.1, 0.25, 0.5, 0.75, 1, 2.5, \n",
    "               5, 7.5, 10, 25, 50, 75, 100]\n",
    "print (\"RidgeCV alpha array\", alpha_range)   \n"
   ]
  },
  {
   "cell_type": "code",
   "execution_count": 44,
   "metadata": {},
   "outputs": [
    {
     "data": {
      "text/plain": [
       "array([[15.62927581],\n",
       "       [ 6.62000622],\n",
       "       [13.8216243 ],\n",
       "       [ 7.83973335],\n",
       "       [13.82528628]])"
      ]
     },
     "execution_count": 44,
     "metadata": {},
     "output_type": "execute_result"
    }
   ],
   "source": [
    "ridcvmod = RidgeCV (alphas=alpha_range, \n",
    "                    scoring='neg_mean_squared_error')\n",
    "ridcvmod.fit (X_train, Y_train)\n",
    "Y_pred = ridcvmod.predict (X_test)\n",
    "Y_pred[:5]"
   ]
  },
  {
   "cell_type": "code",
   "execution_count": 45,
   "metadata": {},
   "outputs": [
    {
     "name": "stdout",
     "output_type": "stream",
     "text": [
      "RidgeCV Regression Best Alpha 5.0\n"
     ]
    }
   ],
   "source": [
    "print(\"RidgeCV Regression Best Alpha\", ridcvmod.alpha_)"
   ]
  },
  {
   "cell_type": "code",
   "execution_count": 46,
   "metadata": {},
   "outputs": [
    {
     "name": "stdout",
     "output_type": "stream",
     "text": [
      "RidgeCV Regression Coefficients [[ 0.          1.07866166  1.2893413  -0.08875515 -0.15597031 -0.14924822\n",
      "  -3.11709172]]\n"
     ]
    }
   ],
   "source": [
    "print(\"RidgeCV Regression Coefficients\", ridcvmod.coef_) "
   ]
  },
  {
   "cell_type": "code",
   "execution_count": 47,
   "metadata": {},
   "outputs": [
    {
     "name": "stdout",
     "output_type": "stream",
     "text": [
      "RidgeCV Regression Test R-squared 0.7833363777933967\n"
     ]
    }
   ],
   "source": [
    "print (\"RidgeCV Regression Test R-squared\", ridcvmod.score (X_test, Y_test))"
   ]
  },
  {
   "cell_type": "code",
   "execution_count": 48,
   "metadata": {},
   "outputs": [
    {
     "name": "stdout",
     "output_type": "stream",
     "text": [
      "RidgeCV Regression MSE 4.232006918668424\n"
     ]
    }
   ],
   "source": [
    "print (\"RidgeCV Regression MSE\", metrics.mean_squared_error (Y_pred, Y_test)) "
   ]
  },
  {
   "cell_type": "markdown",
   "metadata": {},
   "source": [
    "### Step E: Lasso Regression on Best Model "
   ]
  },
  {
   "cell_type": "code",
   "execution_count": 49,
   "metadata": {},
   "outputs": [],
   "source": [
    "Y = loan_data [['IntRate']]\n",
    "X = loan_data.drop(['IntRate','EmpLen','Home__OWN',\n",
    "                    'Home__RENT','RevCredBal'], axis=1)\n",
    "Y = Y.values\n",
    "Y = Y.ravel()\n",
    "X_train, X_test, Y_train, Y_test = train_test_split(X, Y, random_state=33,test_size=0.2)"
   ]
  },
  {
   "cell_type": "code",
   "execution_count": 50,
   "metadata": {},
   "outputs": [
    {
     "name": "stderr",
     "output_type": "stream",
     "text": [
      "C:\\ProgramData\\Anaconda3\\lib\\site-packages\\sklearn\\model_selection\\_split.py:1978: FutureWarning: The default value of cv will change from 3 to 5 in version 0.22. Specify it explicitly to silence this warning.\n",
      "  warnings.warn(CV_WARNING, FutureWarning)\n"
     ]
    },
    {
     "data": {
      "text/plain": [
       "array([15.54853096,  6.82117272, 13.82631855,  7.73871915, 13.92975875])"
      ]
     },
     "execution_count": 50,
     "metadata": {},
     "output_type": "execute_result"
    }
   ],
   "source": [
    "lascvmod = LassoCV (n_alphas=100, normalize=True,\n",
    "                    random_state=33)\n",
    "lascvmod.fit(X_train, Y_train)\n",
    "Y_pred = lascvmod.predict(X_test)\n",
    "Y_pred[:5]"
   ]
  },
  {
   "cell_type": "code",
   "execution_count": 51,
   "metadata": {},
   "outputs": [
    {
     "name": "stdout",
     "output_type": "stream",
     "text": [
      "LassoCV Regression Best Alpha 0.0012330526262094902\n"
     ]
    }
   ],
   "source": [
    "print(\"LassoCV Regression Best Alpha\", lascvmod.alpha_)"
   ]
  },
  {
   "cell_type": "code",
   "execution_count": 52,
   "metadata": {},
   "outputs": [
    {
     "name": "stdout",
     "output_type": "stream",
     "text": [
      "LassoCV Regression Coefficients [ 1.33554702e-04  3.28515373e+00 -1.76193619e-03 -2.53930698e-01\n",
      " -2.11660218e-05 -9.26951262e-02]\n"
     ]
    }
   ],
   "source": [
    "print(\"LassoCV Regression Coefficients\", lascvmod.coef_) "
   ]
  },
  {
   "cell_type": "code",
   "execution_count": 53,
   "metadata": {},
   "outputs": [
    {
     "name": "stdout",
     "output_type": "stream",
     "text": [
      "LassoCV Regression Test R-squared 0.7815793804623784\n"
     ]
    }
   ],
   "source": [
    "print (\"LassoCV Regression Test R-squared\", lascvmod.score (X_test, Y_test))"
   ]
  },
  {
   "cell_type": "code",
   "execution_count": 54,
   "metadata": {},
   "outputs": [
    {
     "name": "stdout",
     "output_type": "stream",
     "text": [
      "LassoCV Regression MSE 4.266325669482356\n"
     ]
    }
   ],
   "source": [
    "print (\"LassoCV Regression MSE\", metrics.mean_squared_error (Y_pred, Y_test))"
   ]
  },
  {
   "cell_type": "markdown",
   "metadata": {},
   "source": [
    "### Step F: Lasso Regression on Full Model"
   ]
  },
  {
   "cell_type": "code",
   "execution_count": 55,
   "metadata": {},
   "outputs": [],
   "source": [
    "Y = loan_data [['IntRate']]\n",
    "X = loan_data.drop(['IntRate'], axis=1)\n",
    "Y = Y.values\n",
    "Y = Y.ravel()\n",
    "X_train, X_test, Y_train, Y_test = train_test_split(X, Y, random_state=33,test_size=0.2)\n"
   ]
  },
  {
   "cell_type": "code",
   "execution_count": 56,
   "metadata": {},
   "outputs": [
    {
     "name": "stderr",
     "output_type": "stream",
     "text": [
      "C:\\ProgramData\\Anaconda3\\lib\\site-packages\\sklearn\\model_selection\\_split.py:1978: FutureWarning: The default value of cv will change from 3 to 5 in version 0.22. Specify it explicitly to silence this warning.\n",
      "  warnings.warn(CV_WARNING, FutureWarning)\n"
     ]
    },
    {
     "data": {
      "text/plain": [
       "array([15.51382685,  6.89377613, 13.77691187,  7.7324606 , 13.97114691])"
      ]
     },
     "execution_count": 56,
     "metadata": {},
     "output_type": "execute_result"
    }
   ],
   "source": [
    "lascvmod = LassoCV (n_alphas=100, normalize=True,\n",
    "                    random_state=33)\n",
    "lascvmod.fit(X_train, Y_train)\n",
    "Y_pred = lascvmod.predict(X_test)\n",
    "Y_pred[:5]\n"
   ]
  },
  {
   "cell_type": "code",
   "execution_count": 57,
   "metadata": {},
   "outputs": [
    {
     "name": "stdout",
     "output_type": "stream",
     "text": [
      "LassoCV Regression Best Alpha 0.001747820239180997\n"
     ]
    }
   ],
   "source": [
    "print(\"LassoCV Regression Best Alpha\", lascvmod.alpha_)"
   ]
  },
  {
   "cell_type": "code",
   "execution_count": 58,
   "metadata": {},
   "outputs": [
    {
     "name": "stdout",
     "output_type": "stream",
     "text": [
      "LassoCV Regression Coefficients [ 1.29658624e-04  3.26121752e+00 -0.00000000e+00 -2.19507287e-01\n",
      "  9.12452316e-03  0.00000000e+00 -9.04833708e-06 -1.72881333e-06\n",
      " -9.21549379e-02  0.00000000e+00]\n"
     ]
    }
   ],
   "source": [
    "print(\"LassoCV Regression Coefficients\", lascvmod.coef_) "
   ]
  },
  {
   "cell_type": "code",
   "execution_count": 59,
   "metadata": {},
   "outputs": [
    {
     "name": "stdout",
     "output_type": "stream",
     "text": [
      "LassoCV Regression Test R-squared 0.781260836355689\n"
     ]
    }
   ],
   "source": [
    "print (\"LassoCV Regression Test R-squared\", lascvmod.score (X_test, Y_test))"
   ]
  },
  {
   "cell_type": "code",
   "execution_count": 60,
   "metadata": {},
   "outputs": [
    {
     "name": "stdout",
     "output_type": "stream",
     "text": [
      "LassoCV Regression MSE 4.272547668587149\n"
     ]
    }
   ],
   "source": [
    "print (\"LassoCV Regression MSE\", metrics.mean_squared_error (Y_pred, Y_test))"
   ]
  },
  {
   "cell_type": "code",
   "execution_count": null,
   "metadata": {},
   "outputs": [],
   "source": []
  }
 ],
 "metadata": {
  "kernelspec": {
   "display_name": "Python 3",
   "language": "python",
   "name": "python3"
  },
  "language_info": {
   "codemirror_mode": {
    "name": "ipython",
    "version": 3
   },
   "file_extension": ".py",
   "mimetype": "text/x-python",
   "name": "python",
   "nbconvert_exporter": "python",
   "pygments_lexer": "ipython3",
   "version": "3.7.3"
  }
 },
 "nbformat": 4,
 "nbformat_minor": 2
}
